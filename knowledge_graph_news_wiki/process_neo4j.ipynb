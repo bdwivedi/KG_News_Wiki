{
 "cells": [
  {
   "cell_type": "code",
   "execution_count": 1,
   "id": "20434750-363f-4e38-8a29-ed9869dc817d",
   "metadata": {},
   "outputs": [],
   "source": [
    "import pandas as pd"
   ]
  },
  {
   "cell_type": "code",
   "execution_count": 2,
   "id": "e4b00303-da11-4a6d-aa05-6893de5762d8",
   "metadata": {},
   "outputs": [],
   "source": [
    "wiki_data = pd.read_csv('Data/wiki_total_1208.csv')\n",
    "news_data = pd.read_csv('Data/node_news_1208.csv')\n"
   ]
  },
  {
   "cell_type": "code",
   "execution_count": 3,
   "id": "680de741-1765-4dc0-bb05-56fcc22977e9",
   "metadata": {},
   "outputs": [
    {
     "data": {
      "text/html": [
       "<div>\n",
       "<style scoped>\n",
       "    .dataframe tbody tr th:only-of-type {\n",
       "        vertical-align: middle;\n",
       "    }\n",
       "\n",
       "    .dataframe tbody tr th {\n",
       "        vertical-align: top;\n",
       "    }\n",
       "\n",
       "    .dataframe thead th {\n",
       "        text-align: right;\n",
       "    }\n",
       "</style>\n",
       "<table border=\"1\" class=\"dataframe\">\n",
       "  <thead>\n",
       "    <tr style=\"text-align: right;\">\n",
       "      <th></th>\n",
       "      <th>:START_ID</th>\n",
       "      <th>:END_ID</th>\n",
       "      <th>:TYPE</th>\n",
       "      <th>subject_entity</th>\n",
       "      <th>object_entity</th>\n",
       "      <th>source_type</th>\n",
       "    </tr>\n",
       "  </thead>\n",
       "  <tbody>\n",
       "    <tr>\n",
       "      <th>0</th>\n",
       "      <td>chips</td>\n",
       "      <td>resin</td>\n",
       "      <td>use</td>\n",
       "      <td>ORG</td>\n",
       "      <td>ORG</td>\n",
       "      <td>Wiki</td>\n",
       "    </tr>\n",
       "    <tr>\n",
       "      <th>1</th>\n",
       "      <td>avago technologies</td>\n",
       "      <td>infineon technologies</td>\n",
       "      <td>acquire</td>\n",
       "      <td>ORG</td>\n",
       "      <td>ORG</td>\n",
       "      <td>Wiki</td>\n",
       "    </tr>\n",
       "    <tr>\n",
       "      <th>2</th>\n",
       "      <td>avago technologies</td>\n",
       "      <td>broadcom corporation</td>\n",
       "      <td>buy</td>\n",
       "      <td>ORG</td>\n",
       "      <td>ORG</td>\n",
       "      <td>Wiki</td>\n",
       "    </tr>\n",
       "    <tr>\n",
       "      <th>3</th>\n",
       "      <td>qualcomm</td>\n",
       "      <td>broadcom</td>\n",
       "      <td>purchase</td>\n",
       "      <td>PERSON</td>\n",
       "      <td>ORG</td>\n",
       "      <td>Wiki</td>\n",
       "    </tr>\n",
       "    <tr>\n",
       "      <th>4</th>\n",
       "      <td>the european union</td>\n",
       "      <td>broadcom</td>\n",
       "      <td>stop</td>\n",
       "      <td>ORG</td>\n",
       "      <td>ORG</td>\n",
       "      <td>Wiki</td>\n",
       "    </tr>\n",
       "  </tbody>\n",
       "</table>\n",
       "</div>"
      ],
      "text/plain": [
       "            :START_ID                :END_ID     :TYPE subject_entity  \\\n",
       "0               chips                  resin       use            ORG   \n",
       "1  avago technologies  infineon technologies   acquire            ORG   \n",
       "2  avago technologies   broadcom corporation       buy            ORG   \n",
       "3            qualcomm               broadcom  purchase         PERSON   \n",
       "4  the european union               broadcom      stop            ORG   \n",
       "\n",
       "  object_entity source_type  \n",
       "0           ORG        Wiki  \n",
       "1           ORG        Wiki  \n",
       "2           ORG        Wiki  \n",
       "3           ORG        Wiki  \n",
       "4           ORG        Wiki  "
      ]
     },
     "execution_count": 3,
     "metadata": {},
     "output_type": "execute_result"
    }
   ],
   "source": [
    "wiki_data.head()"
   ]
  },
  {
   "cell_type": "code",
   "execution_count": 4,
   "id": "0023ffee-9243-4826-8326-0e6cbf10259b",
   "metadata": {},
   "outputs": [
    {
     "data": {
      "text/html": [
       "<div>\n",
       "<style scoped>\n",
       "    .dataframe tbody tr th:only-of-type {\n",
       "        vertical-align: middle;\n",
       "    }\n",
       "\n",
       "    .dataframe tbody tr th {\n",
       "        vertical-align: top;\n",
       "    }\n",
       "\n",
       "    .dataframe thead th {\n",
       "        text-align: right;\n",
       "    }\n",
       "</style>\n",
       "<table border=\"1\" class=\"dataframe\">\n",
       "  <thead>\n",
       "    <tr style=\"text-align: right;\">\n",
       "      <th></th>\n",
       "      <th>:START_ID</th>\n",
       "      <th>:END_ID</th>\n",
       "      <th>:TYPE</th>\n",
       "      <th>subject_entity</th>\n",
       "      <th>object_entity</th>\n",
       "      <th>source_type</th>\n",
       "    </tr>\n",
       "  </thead>\n",
       "  <tbody>\n",
       "    <tr>\n",
       "      <th>0</th>\n",
       "      <td>goldman sachs gs.n</td>\n",
       "      <td>marvell</td>\n",
       "      <td>upgrade</td>\n",
       "      <td>ORG</td>\n",
       "      <td>ORG</td>\n",
       "      <td>News</td>\n",
       "    </tr>\n",
       "    <tr>\n",
       "      <th>1</th>\n",
       "      <td>apple</td>\n",
       "      <td>vendors</td>\n",
       "      <td>instruct</td>\n",
       "      <td>ORG</td>\n",
       "      <td>PRODUCT</td>\n",
       "      <td>News</td>\n",
       "    </tr>\n",
       "    <tr>\n",
       "      <th>2</th>\n",
       "      <td>abada</td>\n",
       "      <td>bitfly</td>\n",
       "      <td>recommend</td>\n",
       "      <td>PERSON</td>\n",
       "      <td>PERSON</td>\n",
       "      <td>News</td>\n",
       "    </tr>\n",
       "    <tr>\n",
       "      <th>3</th>\n",
       "      <td>south africa</td>\n",
       "      <td>sales</td>\n",
       "      <td>run</td>\n",
       "      <td>GPE</td>\n",
       "      <td>PRODUCT</td>\n",
       "      <td>News</td>\n",
       "    </tr>\n",
       "    <tr>\n",
       "      <th>4</th>\n",
       "      <td>apple</td>\n",
       "      <td>iphone</td>\n",
       "      <td>slash</td>\n",
       "      <td>ORG</td>\n",
       "      <td>ORG</td>\n",
       "      <td>News</td>\n",
       "    </tr>\n",
       "  </tbody>\n",
       "</table>\n",
       "</div>"
      ],
      "text/plain": [
       "            :START_ID  :END_ID      :TYPE subject_entity object_entity  \\\n",
       "0  goldman sachs gs.n  marvell    upgrade            ORG           ORG   \n",
       "1               apple  vendors   instruct            ORG       PRODUCT   \n",
       "2               abada   bitfly  recommend         PERSON        PERSON   \n",
       "3        south africa    sales        run            GPE       PRODUCT   \n",
       "4               apple   iphone      slash            ORG           ORG   \n",
       "\n",
       "  source_type  \n",
       "0        News  \n",
       "1        News  \n",
       "2        News  \n",
       "3        News  \n",
       "4        News  "
      ]
     },
     "execution_count": 4,
     "metadata": {},
     "output_type": "execute_result"
    }
   ],
   "source": [
    "news_data.head()"
   ]
  },
  {
   "cell_type": "code",
   "execution_count": 5,
   "id": "df11b2e2-1e5f-41e2-b48d-9a4be37ad6fa",
   "metadata": {},
   "outputs": [
    {
     "data": {
      "text/html": [
       "<div>\n",
       "<style scoped>\n",
       "    .dataframe tbody tr th:only-of-type {\n",
       "        vertical-align: middle;\n",
       "    }\n",
       "\n",
       "    .dataframe tbody tr th {\n",
       "        vertical-align: top;\n",
       "    }\n",
       "\n",
       "    .dataframe thead th {\n",
       "        text-align: right;\n",
       "    }\n",
       "</style>\n",
       "<table border=\"1\" class=\"dataframe\">\n",
       "  <thead>\n",
       "    <tr style=\"text-align: right;\">\n",
       "      <th></th>\n",
       "      <th>Id:ID</th>\n",
       "      <th>name</th>\n",
       "      <th>:LABEL</th>\n",
       "    </tr>\n",
       "  </thead>\n",
       "  <tbody>\n",
       "    <tr>\n",
       "      <th>0</th>\n",
       "      <td>GOLDMAN SACHS GS.N</td>\n",
       "      <td>goldman sachs gs.n</td>\n",
       "      <td>ORG</td>\n",
       "    </tr>\n",
       "    <tr>\n",
       "      <th>1</th>\n",
       "      <td>APPLE</td>\n",
       "      <td>apple</td>\n",
       "      <td>ORG</td>\n",
       "    </tr>\n",
       "    <tr>\n",
       "      <th>2</th>\n",
       "      <td>ABADA</td>\n",
       "      <td>abada</td>\n",
       "      <td>PERSON</td>\n",
       "    </tr>\n",
       "    <tr>\n",
       "      <th>3</th>\n",
       "      <td>SOUTH AFRICA</td>\n",
       "      <td>south africa</td>\n",
       "      <td>GPE</td>\n",
       "    </tr>\n",
       "    <tr>\n",
       "      <th>4</th>\n",
       "      <td>WILLIAM HUFFHINE</td>\n",
       "      <td>william huffhine</td>\n",
       "      <td>PERSON</td>\n",
       "    </tr>\n",
       "  </tbody>\n",
       "</table>\n",
       "</div>"
      ],
      "text/plain": [
       "                Id:ID                name  :LABEL\n",
       "0  GOLDMAN SACHS GS.N  goldman sachs gs.n     ORG\n",
       "1               APPLE               apple     ORG\n",
       "2               ABADA               abada  PERSON\n",
       "3        SOUTH AFRICA        south africa     GPE\n",
       "4    WILLIAM HUFFHINE    william huffhine  PERSON"
      ]
     },
     "execution_count": 5,
     "metadata": {},
     "output_type": "execute_result"
    }
   ],
   "source": [
    "df_tkn1 = news_data[[':START_ID','subject_entity']]\n",
    "df_tkn1.columns = ['name',':LABEL']\n",
    "df_tkn2 = news_data[[':END_ID','object_entity']]\n",
    "df_tkn2.columns = ['name',':LABEL']\n",
    "df_tkn3 = wiki_data[[':START_ID','subject_entity']]\n",
    "df_tkn3.columns = ['name',':LABEL']\n",
    "df_tkn4 = wiki_data[[':END_ID','object_entity']]\n",
    "df_tkn4.columns = ['name',':LABEL']\n",
    "df_tkn_merged = pd.concat([df_tkn1,df_tkn2,df_tkn3,df_tkn4], ignore_index=True)\n",
    "df_tkn_merged = df_tkn_merged.drop_duplicates(subset=['name'])\n",
    "df_tkn_merged.reset_index(inplace = True)\n",
    "df_tkn_merged.reset_index(inplace = True)\n",
    "df_tkn_merged = df_tkn_merged.rename(columns={'level_0':'Id:ID'})\n",
    "df_tkn_merged['Id:ID'] = df_tkn_merged['name'].apply(lambda x : x.upper())\n",
    "df_tkn_merged = df_tkn_merged.drop('index',axis=1)\n",
    "df_tkn_merged.head()"
   ]
  },
  {
   "cell_type": "code",
   "execution_count": 6,
   "id": "47a9a5c5-a6b8-40a4-b779-f07d83e6f938",
   "metadata": {},
   "outputs": [
    {
     "data": {
      "text/html": [
       "<div>\n",
       "<style scoped>\n",
       "    .dataframe tbody tr th:only-of-type {\n",
       "        vertical-align: middle;\n",
       "    }\n",
       "\n",
       "    .dataframe tbody tr th {\n",
       "        vertical-align: top;\n",
       "    }\n",
       "\n",
       "    .dataframe thead th {\n",
       "        text-align: right;\n",
       "    }\n",
       "</style>\n",
       "<table border=\"1\" class=\"dataframe\">\n",
       "  <thead>\n",
       "    <tr style=\"text-align: right;\">\n",
       "      <th></th>\n",
       "      <th>Id:ID</th>\n",
       "      <th>name</th>\n",
       "      <th>:LABEL</th>\n",
       "    </tr>\n",
       "  </thead>\n",
       "  <tbody>\n",
       "    <tr>\n",
       "      <th>2029</th>\n",
       "      <td>HABIBA SULTANA</td>\n",
       "      <td>habiba sultana</td>\n",
       "      <td>PERSON</td>\n",
       "    </tr>\n",
       "    <tr>\n",
       "      <th>2030</th>\n",
       "      <td>NEW SOUTH WALES</td>\n",
       "      <td>new south wales</td>\n",
       "      <td>GPE</td>\n",
       "    </tr>\n",
       "    <tr>\n",
       "      <th>2031</th>\n",
       "      <td>BELIZEANS</td>\n",
       "      <td>belizeans</td>\n",
       "      <td>NORP</td>\n",
       "    </tr>\n",
       "    <tr>\n",
       "      <th>2032</th>\n",
       "      <td>SAINT NICHOLAS DAY</td>\n",
       "      <td>saint nicholas day</td>\n",
       "      <td>PERSON</td>\n",
       "    </tr>\n",
       "    <tr>\n",
       "      <th>2033</th>\n",
       "      <td>BHUTANESE</td>\n",
       "      <td>bhutanese</td>\n",
       "      <td>NORP</td>\n",
       "    </tr>\n",
       "  </tbody>\n",
       "</table>\n",
       "</div>"
      ],
      "text/plain": [
       "                   Id:ID                name  :LABEL\n",
       "2029      HABIBA SULTANA      habiba sultana  PERSON\n",
       "2030     NEW SOUTH WALES     new south wales     GPE\n",
       "2031           BELIZEANS           belizeans    NORP\n",
       "2032  SAINT NICHOLAS DAY  saint nicholas day  PERSON\n",
       "2033           BHUTANESE           bhutanese    NORP"
      ]
     },
     "execution_count": 6,
     "metadata": {},
     "output_type": "execute_result"
    }
   ],
   "source": [
    "df_tkn_merged.tail()"
   ]
  },
  {
   "cell_type": "code",
   "execution_count": 7,
   "id": "863fd762-3700-4adb-ab5f-6710d1ff0f0a",
   "metadata": {},
   "outputs": [],
   "source": [
    "def create_id(x):\n",
    "    text = x.split()\n",
    "    text = '_'.join(text)\n",
    "    return text"
   ]
  },
  {
   "cell_type": "code",
   "execution_count": 8,
   "id": "0b03c39b-4182-4ae1-808e-8f81ba2dac0d",
   "metadata": {},
   "outputs": [],
   "source": [
    "df_tkn_merged['Id:ID'] = df_tkn_merged['Id:ID'].apply(lambda x : create_id(x))"
   ]
  },
  {
   "cell_type": "code",
   "execution_count": 9,
   "id": "b70a186c-df95-462f-99a7-1f24f6b1dc74",
   "metadata": {},
   "outputs": [
    {
     "data": {
      "text/html": [
       "<div>\n",
       "<style scoped>\n",
       "    .dataframe tbody tr th:only-of-type {\n",
       "        vertical-align: middle;\n",
       "    }\n",
       "\n",
       "    .dataframe tbody tr th {\n",
       "        vertical-align: top;\n",
       "    }\n",
       "\n",
       "    .dataframe thead th {\n",
       "        text-align: right;\n",
       "    }\n",
       "</style>\n",
       "<table border=\"1\" class=\"dataframe\">\n",
       "  <thead>\n",
       "    <tr style=\"text-align: right;\">\n",
       "      <th></th>\n",
       "      <th>Id:ID</th>\n",
       "      <th>name</th>\n",
       "      <th>:LABEL</th>\n",
       "    </tr>\n",
       "  </thead>\n",
       "  <tbody>\n",
       "    <tr>\n",
       "      <th>0</th>\n",
       "      <td>GOLDMAN_SACHS_GS.N</td>\n",
       "      <td>goldman sachs gs.n</td>\n",
       "      <td>ORG</td>\n",
       "    </tr>\n",
       "    <tr>\n",
       "      <th>1</th>\n",
       "      <td>APPLE</td>\n",
       "      <td>apple</td>\n",
       "      <td>ORG</td>\n",
       "    </tr>\n",
       "    <tr>\n",
       "      <th>2</th>\n",
       "      <td>ABADA</td>\n",
       "      <td>abada</td>\n",
       "      <td>PERSON</td>\n",
       "    </tr>\n",
       "    <tr>\n",
       "      <th>3</th>\n",
       "      <td>SOUTH_AFRICA</td>\n",
       "      <td>south africa</td>\n",
       "      <td>GPE</td>\n",
       "    </tr>\n",
       "    <tr>\n",
       "      <th>4</th>\n",
       "      <td>WILLIAM_HUFFHINE</td>\n",
       "      <td>william huffhine</td>\n",
       "      <td>PERSON</td>\n",
       "    </tr>\n",
       "  </tbody>\n",
       "</table>\n",
       "</div>"
      ],
      "text/plain": [
       "                Id:ID                name  :LABEL\n",
       "0  GOLDMAN_SACHS_GS.N  goldman sachs gs.n     ORG\n",
       "1               APPLE               apple     ORG\n",
       "2               ABADA               abada  PERSON\n",
       "3        SOUTH_AFRICA        south africa     GPE\n",
       "4    WILLIAM_HUFFHINE    william huffhine  PERSON"
      ]
     },
     "execution_count": 9,
     "metadata": {},
     "output_type": "execute_result"
    }
   ],
   "source": [
    "df_tkn_merged.head()"
   ]
  },
  {
   "cell_type": "code",
   "execution_count": 10,
   "id": "7a364528-02f6-4bfc-b23d-f575b90bb74b",
   "metadata": {},
   "outputs": [],
   "source": [
    "df_tkn_merged = df_tkn_merged.drop_duplicates(subset=['Id:ID'])\n",
    "df_tkn_merged = df_tkn_merged[(df_tkn_merged['Id:ID'].str.len()>2)] "
   ]
  },
  {
   "cell_type": "code",
   "execution_count": 11,
   "id": "68d166eb-4c02-4fa4-8305-8f7f639886af",
   "metadata": {},
   "outputs": [],
   "source": [
    "df_tkn_merged.to_csv('Data/node_all_1208.csv',index = False)"
   ]
  },
  {
   "cell_type": "code",
   "execution_count": 12,
   "id": "ca1c6e21-6e4b-478f-ac8a-4f1cb7e77363",
   "metadata": {},
   "outputs": [
    {
     "data": {
      "text/plain": [
       "2034"
      ]
     },
     "execution_count": 12,
     "metadata": {},
     "output_type": "execute_result"
    }
   ],
   "source": [
    "len(df_tkn_merged)"
   ]
  },
  {
   "cell_type": "code",
   "execution_count": null,
   "id": "9b99faf2-6e2a-488d-8f02-218e542a7f9a",
   "metadata": {},
   "outputs": [],
   "source": []
  },
  {
   "cell_type": "code",
   "execution_count": 13,
   "id": "b150505b-3b77-43f1-b2c0-9fdb8070b7a1",
   "metadata": {},
   "outputs": [],
   "source": [
    "def clean_rel(x):\n",
    "    text = x.replace('!','')\n",
    "    return text"
   ]
  },
  {
   "cell_type": "code",
   "execution_count": 14,
   "id": "75805a25-e6ce-4311-97f9-7818ec14ed02",
   "metadata": {},
   "outputs": [
    {
     "name": "stdout",
     "output_type": "stream",
     "text": [
      "<class 'pandas.core.frame.DataFrame'>\n",
      "Int64Index: 2812 entries, 0 to 1425\n",
      "Data columns (total 6 columns):\n",
      " #   Column          Non-Null Count  Dtype \n",
      "---  ------          --------------  ----- \n",
      " 0   :START_ID       2812 non-null   object\n",
      " 1   :END_ID         2812 non-null   object\n",
      " 2   :TYPE           2812 non-null   object\n",
      " 3   subject_entity  2812 non-null   object\n",
      " 4   object_entity   2812 non-null   object\n",
      " 5   source_type     2812 non-null   object\n",
      "dtypes: object(6)\n",
      "memory usage: 153.8+ KB\n"
     ]
    }
   ],
   "source": [
    "df_merged = pd.concat([news_data,wiki_data])\n",
    "df_merged = df_merged.drop_duplicates()\n",
    "# df_merged = df_merged.drop(['created_at','verb_source_name'],axis=1)\n",
    "df_merged.info()"
   ]
  },
  {
   "cell_type": "code",
   "execution_count": 15,
   "id": "90a720f5-4dc8-4c21-8734-23ad32378284",
   "metadata": {},
   "outputs": [
    {
     "data": {
      "text/html": [
       "<div>\n",
       "<style scoped>\n",
       "    .dataframe tbody tr th:only-of-type {\n",
       "        vertical-align: middle;\n",
       "    }\n",
       "\n",
       "    .dataframe tbody tr th {\n",
       "        vertical-align: top;\n",
       "    }\n",
       "\n",
       "    .dataframe thead th {\n",
       "        text-align: right;\n",
       "    }\n",
       "</style>\n",
       "<table border=\"1\" class=\"dataframe\">\n",
       "  <thead>\n",
       "    <tr style=\"text-align: right;\">\n",
       "      <th></th>\n",
       "      <th>:START_ID</th>\n",
       "      <th>:END_ID</th>\n",
       "      <th>:TYPE</th>\n",
       "      <th>subject_entity</th>\n",
       "      <th>object_entity</th>\n",
       "      <th>source_type</th>\n",
       "    </tr>\n",
       "  </thead>\n",
       "  <tbody>\n",
       "    <tr>\n",
       "      <th>0</th>\n",
       "      <td>goldman sachs gs.n</td>\n",
       "      <td>marvell</td>\n",
       "      <td>upgrade</td>\n",
       "      <td>ORG</td>\n",
       "      <td>ORG</td>\n",
       "      <td>News</td>\n",
       "    </tr>\n",
       "    <tr>\n",
       "      <th>1</th>\n",
       "      <td>apple</td>\n",
       "      <td>vendors</td>\n",
       "      <td>instruct</td>\n",
       "      <td>ORG</td>\n",
       "      <td>PRODUCT</td>\n",
       "      <td>News</td>\n",
       "    </tr>\n",
       "    <tr>\n",
       "      <th>2</th>\n",
       "      <td>abada</td>\n",
       "      <td>bitfly</td>\n",
       "      <td>recommend</td>\n",
       "      <td>PERSON</td>\n",
       "      <td>PERSON</td>\n",
       "      <td>News</td>\n",
       "    </tr>\n",
       "    <tr>\n",
       "      <th>3</th>\n",
       "      <td>south africa</td>\n",
       "      <td>sales</td>\n",
       "      <td>run</td>\n",
       "      <td>GPE</td>\n",
       "      <td>PRODUCT</td>\n",
       "      <td>News</td>\n",
       "    </tr>\n",
       "    <tr>\n",
       "      <th>4</th>\n",
       "      <td>apple</td>\n",
       "      <td>iphone</td>\n",
       "      <td>slash</td>\n",
       "      <td>ORG</td>\n",
       "      <td>ORG</td>\n",
       "      <td>News</td>\n",
       "    </tr>\n",
       "  </tbody>\n",
       "</table>\n",
       "</div>"
      ],
      "text/plain": [
       "            :START_ID  :END_ID      :TYPE subject_entity object_entity  \\\n",
       "0  goldman sachs gs.n  marvell    upgrade            ORG           ORG   \n",
       "1               apple  vendors   instruct            ORG       PRODUCT   \n",
       "2               abada   bitfly  recommend         PERSON        PERSON   \n",
       "3        south africa    sales        run            GPE       PRODUCT   \n",
       "4               apple   iphone      slash            ORG           ORG   \n",
       "\n",
       "  source_type  \n",
       "0        News  \n",
       "1        News  \n",
       "2        News  \n",
       "3        News  \n",
       "4        News  "
      ]
     },
     "execution_count": 15,
     "metadata": {},
     "output_type": "execute_result"
    }
   ],
   "source": [
    "df_merged.head()"
   ]
  },
  {
   "cell_type": "code",
   "execution_count": 16,
   "id": "f61a7e0e-e0d3-4b81-912d-7b6fdb3483ce",
   "metadata": {},
   "outputs": [],
   "source": [
    "df_merged[':TYPE'] = df_merged[':TYPE'].apply(lambda x : clean_rel(x))\n",
    "df_merged[':TYPE'] = df_merged[':TYPE'].apply(lambda x : create_id(x.upper()))\n",
    "df_merged[':START_ID'] = df_merged[':START_ID'].apply(lambda x : create_id(x.upper()))\n",
    "df_merged[':END_ID'] = df_merged[':END_ID'].apply(lambda x : create_id(x.upper()))"
   ]
  },
  {
   "cell_type": "code",
   "execution_count": 17,
   "id": "0faf0d16-e691-4dc7-afb8-0517853f63f8",
   "metadata": {},
   "outputs": [
    {
     "name": "stdout",
     "output_type": "stream",
     "text": [
      "2812\n"
     ]
    }
   ],
   "source": [
    "print(len(df_merged))"
   ]
  },
  {
   "cell_type": "code",
   "execution_count": 18,
   "id": "f3908abf-622c-4070-ab57-eb0a8b4dbed4",
   "metadata": {},
   "outputs": [],
   "source": [
    "df_merged.reset_index(drop=True, inplace=True)\n",
    "df_merged.to_csv('Data/rel_all_1208.csv',index = False)"
   ]
  },
  {
   "cell_type": "code",
   "execution_count": 40,
   "id": "e739b9b1-87b6-4090-b3a0-7ab6d79df9f8",
   "metadata": {},
   "outputs": [],
   "source": [
    "# test_df = pd.read_csv('sub_vb_ob_lib2_news_10k.csv')"
   ]
  },
  {
   "cell_type": "code",
   "execution_count": 19,
   "id": "e11ebfb5-6048-494d-ad24-a71ab415eae6",
   "metadata": {},
   "outputs": [],
   "source": [
    "# len(test_df)"
   ]
  },
  {
   "cell_type": "code",
   "execution_count": 20,
   "id": "463b4c29-3203-41b4-8c47-465a6c3e4e7d",
   "metadata": {},
   "outputs": [],
   "source": [
    "# test_df.head()"
   ]
  },
  {
   "cell_type": "code",
   "execution_count": null,
   "id": "052f04f2-69db-4e49-9b86-ea66dd3128fc",
   "metadata": {},
   "outputs": [],
   "source": []
  }
 ],
 "metadata": {
  "kernelspec": {
   "display_name": "nlp_proj",
   "language": "python",
   "name": "nlp_proj"
  },
  "language_info": {
   "codemirror_mode": {
    "name": "ipython",
    "version": 3
   },
   "file_extension": ".py",
   "mimetype": "text/x-python",
   "name": "python",
   "nbconvert_exporter": "python",
   "pygments_lexer": "ipython3",
   "version": "3.7.15"
  }
 },
 "nbformat": 4,
 "nbformat_minor": 5
}
